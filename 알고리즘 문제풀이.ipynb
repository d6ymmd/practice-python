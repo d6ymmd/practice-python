{
 "cells": [
  {
   "cell_type": "code",
   "execution_count": 2,
   "metadata": {},
   "outputs": [
    {
     "name": "stdout",
     "output_type": "stream",
     "text": [
      "216\n"
     ]
    }
   ],
   "source": [
    "str_N = input()\n",
    "int_N = int(str_N)"
   ]
  },
  {
   "cell_type": "code",
   "execution_count": 3,
   "metadata": {},
   "outputs": [],
   "source": [
    "# 각 자리수를 더한 값을 구하는 함수 \n",
    "def cal_elem_sum(int_num):\n",
    "    str_num = str(int_num)\n",
    "    elem_sum = 0\n",
    "    for elem in str_num:\n",
    "        elem_sum += int(elem)\n",
    "        \n",
    "    return elem_sum"
   ]
  },
  {
   "cell_type": "code",
   "execution_count": 4,
   "metadata": {},
   "outputs": [],
   "source": [
    "# in (216):인덱싱이 안됨\n",
    "# str(216): str[0]->2 와 같이 인덱싱 가능"
   ]
  },
  {
   "cell_type": "code",
   "execution_count": 5,
   "metadata": {},
   "outputs": [
    {
     "data": {
      "text/plain": [
       "9"
      ]
     },
     "execution_count": 5,
     "metadata": {},
     "output_type": "execute_result"
    }
   ],
   "source": [
    "cal_elem_sum(216)"
   ]
  },
  {
   "cell_type": "code",
   "execution_count": 6,
   "metadata": {},
   "outputs": [],
   "source": [
    "def cal_divide_sum(int_num):\n",
    "    return cal_elem_sum(int_num) + int_num"
   ]
  },
  {
   "cell_type": "code",
   "execution_count": 7,
   "metadata": {},
   "outputs": [
    {
     "data": {
      "text/plain": [
       "225"
      ]
     },
     "execution_count": 7,
     "metadata": {},
     "output_type": "execute_result"
    }
   ],
   "source": [
    "cal_divide_sum(216)"
   ]
  },
  {
   "cell_type": "code",
   "execution_count": 11,
   "metadata": {},
   "outputs": [
    {
     "name": "stdout",
     "output_type": "stream",
     "text": [
      "num: 215 / divide_sum : 223\n",
      "num: 214 / divide_sum : 221\n",
      "num: 213 / divide_sum : 219\n",
      "num: 212 / divide_sum : 217\n",
      "num: 211 / divide_sum : 215\n",
      "num: 210 / divide_sum : 213\n",
      "num: 209 / divide_sum : 220\n",
      "num: 208 / divide_sum : 218\n",
      "num: 207 / divide_sum : 216\n",
      "num: 206 / divide_sum : 214\n",
      "num: 205 / divide_sum : 212\n",
      "num: 204 / divide_sum : 210\n",
      "num: 203 / divide_sum : 208\n",
      "num: 202 / divide_sum : 206\n",
      "num: 201 / divide_sum : 204\n",
      "num: 200 / divide_sum : 202\n",
      "num: 199 / divide_sum : 218\n",
      "num: 198 / divide_sum : 216\n",
      "num: 197 / divide_sum : 214\n",
      "num: 196 / divide_sum : 212\n",
      "num: 195 / divide_sum : 210\n",
      "num: 194 / divide_sum : 208\n",
      "num: 193 / divide_sum : 206\n",
      "num: 192 / divide_sum : 204\n",
      "num: 191 / divide_sum : 202\n",
      "num: 190 / divide_sum : 200\n",
      "num: 189 / divide_sum : 207\n",
      "num: 188 / divide_sum : 205\n",
      "num: 187 / divide_sum : 203\n",
      "num: 186 / divide_sum : 201\n",
      "num: 185 / divide_sum : 199\n",
      "num: 184 / divide_sum : 197\n",
      "num: 183 / divide_sum : 195\n",
      "num: 182 / divide_sum : 193\n",
      "num: 181 / divide_sum : 191\n",
      "num: 180 / divide_sum : 189\n",
      "num: 179 / divide_sum : 196\n",
      "num: 178 / divide_sum : 194\n",
      "num: 177 / divide_sum : 192\n",
      "num: 176 / divide_sum : 190\n",
      "num: 175 / divide_sum : 188\n",
      "num: 174 / divide_sum : 186\n",
      "num: 173 / divide_sum : 184\n",
      "num: 172 / divide_sum : 182\n",
      "num: 171 / divide_sum : 180\n",
      "num: 170 / divide_sum : 178\n",
      "num: 169 / divide_sum : 185\n",
      "num: 168 / divide_sum : 183\n",
      "num: 167 / divide_sum : 181\n",
      "num: 166 / divide_sum : 179\n",
      "num: 165 / divide_sum : 177\n",
      "num: 164 / divide_sum : 175\n",
      "num: 163 / divide_sum : 173\n",
      "num: 162 / divide_sum : 171\n",
      "num: 161 / divide_sum : 169\n",
      "num: 160 / divide_sum : 167\n",
      "num: 159 / divide_sum : 174\n",
      "num: 158 / divide_sum : 172\n",
      "num: 157 / divide_sum : 170\n",
      "num: 156 / divide_sum : 168\n",
      "num: 155 / divide_sum : 166\n",
      "num: 154 / divide_sum : 164\n",
      "num: 153 / divide_sum : 162\n",
      "num: 152 / divide_sum : 160\n",
      "num: 151 / divide_sum : 158\n",
      "num: 150 / divide_sum : 156\n",
      "num: 149 / divide_sum : 163\n",
      "num: 148 / divide_sum : 161\n",
      "num: 147 / divide_sum : 159\n",
      "num: 146 / divide_sum : 157\n",
      "num: 145 / divide_sum : 155\n",
      "num: 144 / divide_sum : 153\n",
      "num: 143 / divide_sum : 151\n",
      "num: 142 / divide_sum : 149\n",
      "num: 141 / divide_sum : 147\n",
      "num: 140 / divide_sum : 145\n",
      "num: 139 / divide_sum : 152\n",
      "num: 138 / divide_sum : 150\n",
      "num: 137 / divide_sum : 148\n",
      "num: 136 / divide_sum : 146\n",
      "num: 135 / divide_sum : 144\n",
      "num: 134 / divide_sum : 142\n",
      "num: 133 / divide_sum : 140\n",
      "num: 132 / divide_sum : 138\n",
      "num: 131 / divide_sum : 136\n",
      "num: 130 / divide_sum : 134\n",
      "num: 129 / divide_sum : 141\n",
      "num: 128 / divide_sum : 139\n",
      "num: 127 / divide_sum : 137\n",
      "num: 126 / divide_sum : 135\n",
      "num: 125 / divide_sum : 133\n",
      "num: 124 / divide_sum : 131\n",
      "num: 123 / divide_sum : 129\n",
      "num: 122 / divide_sum : 127\n",
      "num: 121 / divide_sum : 125\n",
      "num: 120 / divide_sum : 123\n",
      "num: 119 / divide_sum : 130\n",
      "num: 118 / divide_sum : 128\n",
      "num: 117 / divide_sum : 126\n",
      "num: 116 / divide_sum : 124\n",
      "num: 115 / divide_sum : 122\n",
      "num: 114 / divide_sum : 120\n",
      "num: 113 / divide_sum : 118\n",
      "num: 112 / divide_sum : 116\n",
      "num: 111 / divide_sum : 114\n",
      "num: 110 / divide_sum : 112\n",
      "num: 109 / divide_sum : 119\n",
      "num: 108 / divide_sum : 117\n",
      "num: 107 / divide_sum : 115\n",
      "num: 106 / divide_sum : 113\n",
      "num: 105 / divide_sum : 111\n",
      "num: 104 / divide_sum : 109\n",
      "num: 103 / divide_sum : 107\n",
      "num: 102 / divide_sum : 105\n",
      "num: 101 / divide_sum : 103\n",
      "num: 100 / divide_sum : 101\n",
      "num: 99 / divide_sum : 117\n",
      "num: 98 / divide_sum : 115\n",
      "num: 97 / divide_sum : 113\n",
      "num: 96 / divide_sum : 111\n",
      "num: 95 / divide_sum : 109\n",
      "num: 94 / divide_sum : 107\n",
      "num: 93 / divide_sum : 105\n",
      "num: 92 / divide_sum : 103\n",
      "num: 91 / divide_sum : 101\n",
      "num: 90 / divide_sum : 99\n",
      "num: 89 / divide_sum : 106\n",
      "num: 88 / divide_sum : 104\n",
      "num: 87 / divide_sum : 102\n",
      "num: 86 / divide_sum : 100\n",
      "num: 85 / divide_sum : 98\n",
      "num: 84 / divide_sum : 96\n",
      "num: 83 / divide_sum : 94\n",
      "num: 82 / divide_sum : 92\n",
      "num: 81 / divide_sum : 90\n",
      "num: 80 / divide_sum : 88\n",
      "num: 79 / divide_sum : 95\n",
      "num: 78 / divide_sum : 93\n",
      "num: 77 / divide_sum : 91\n",
      "num: 76 / divide_sum : 89\n",
      "num: 75 / divide_sum : 87\n",
      "num: 74 / divide_sum : 85\n",
      "num: 73 / divide_sum : 83\n",
      "num: 72 / divide_sum : 81\n",
      "num: 71 / divide_sum : 79\n",
      "num: 70 / divide_sum : 77\n",
      "num: 69 / divide_sum : 84\n",
      "num: 68 / divide_sum : 82\n",
      "num: 67 / divide_sum : 80\n",
      "num: 66 / divide_sum : 78\n",
      "num: 65 / divide_sum : 76\n",
      "num: 64 / divide_sum : 74\n",
      "num: 63 / divide_sum : 72\n",
      "num: 62 / divide_sum : 70\n",
      "num: 61 / divide_sum : 68\n",
      "num: 60 / divide_sum : 66\n",
      "num: 59 / divide_sum : 73\n",
      "num: 58 / divide_sum : 71\n",
      "num: 57 / divide_sum : 69\n",
      "num: 56 / divide_sum : 67\n",
      "num: 55 / divide_sum : 65\n",
      "num: 54 / divide_sum : 63\n",
      "num: 53 / divide_sum : 61\n",
      "num: 52 / divide_sum : 59\n",
      "num: 51 / divide_sum : 57\n",
      "num: 50 / divide_sum : 55\n",
      "num: 49 / divide_sum : 62\n",
      "num: 48 / divide_sum : 60\n",
      "num: 47 / divide_sum : 58\n",
      "num: 46 / divide_sum : 56\n",
      "num: 45 / divide_sum : 54\n",
      "num: 44 / divide_sum : 52\n",
      "num: 43 / divide_sum : 50\n",
      "num: 42 / divide_sum : 48\n",
      "num: 41 / divide_sum : 46\n",
      "num: 40 / divide_sum : 44\n",
      "num: 39 / divide_sum : 51\n",
      "num: 38 / divide_sum : 49\n",
      "num: 37 / divide_sum : 47\n",
      "num: 36 / divide_sum : 45\n",
      "num: 35 / divide_sum : 43\n",
      "num: 34 / divide_sum : 41\n",
      "num: 33 / divide_sum : 39\n",
      "num: 32 / divide_sum : 37\n",
      "num: 31 / divide_sum : 35\n",
      "num: 30 / divide_sum : 33\n",
      "num: 29 / divide_sum : 40\n",
      "num: 28 / divide_sum : 38\n",
      "num: 27 / divide_sum : 36\n",
      "num: 26 / divide_sum : 34\n",
      "num: 25 / divide_sum : 32\n",
      "num: 24 / divide_sum : 30\n",
      "num: 23 / divide_sum : 28\n",
      "num: 22 / divide_sum : 26\n",
      "num: 21 / divide_sum : 24\n",
      "num: 20 / divide_sum : 22\n",
      "num: 19 / divide_sum : 29\n",
      "num: 18 / divide_sum : 27\n",
      "num: 17 / divide_sum : 25\n",
      "num: 16 / divide_sum : 23\n",
      "num: 15 / divide_sum : 21\n",
      "num: 14 / divide_sum : 19\n",
      "num: 13 / divide_sum : 17\n",
      "num: 12 / divide_sum : 15\n",
      "num: 11 / divide_sum : 13\n",
      "num: 10 / divide_sum : 11\n",
      "num: 9 / divide_sum : 18\n",
      "num: 8 / divide_sum : 16\n",
      "num: 7 / divide_sum : 14\n",
      "num: 6 / divide_sum : 12\n",
      "num: 5 / divide_sum : 10\n",
      "num: 4 / divide_sum : 8\n",
      "num: 3 / divide_sum : 6\n",
      "num: 2 / divide_sum : 4\n",
      "num: 1 / divide_sum : 2\n",
      "num: 0 / divide_sum : 0\n"
     ]
    }
   ],
   "source": [
    "for num in range(int_N -1, 0-1, -1):  #for문이 역방향으로 + 0까지(0-1)\n",
    "    divide_sum = cal_divide_sum(num)\n",
    "    print(f'num: {num} / divide_sum : {divide_sum}')    "
   ]
  },
  {
   "cell_type": "code",
   "execution_count": 18,
   "metadata": {},
   "outputs": [
    {
     "name": "stdout",
     "output_type": "stream",
     "text": [
      "198\n"
     ]
    }
   ],
   "source": [
    "min_generator = 0\n",
    "stop_num = len(str_N) * 9\n",
    "for num in range(int_N -1, stop_num-1, -1): \n",
    "    divide_sum = cal_divide_sum(num)\n",
    "    check_generator = (divide_sum == int_N)\n",
    "    if check_generator:\n",
    "        min_generator = num\n",
    "print(min_generator)"
   ]
  },
  {
   "cell_type": "code",
   "execution_count": null,
   "metadata": {},
   "outputs": [],
   "source": [
    "# 2의 경우 2로 나눌 수도 있고, 1을 뺄 수도 있고(둘다 검사해야함)\n",
    "# 3의 경우 3으로 나누거나(1회), 3으로 나눈 후 2로 나누거나(2회), 3으로 나눈 후 1을 빼거나(2회) ->ㄱ\n",
    "# 총 3가지가 있다. -> 여기서 최소의 과정으로 가는 방법을 찾아야 함\n",
    "# 5의 경우 3이나 2로 나눌 수 없어 1을 빼야하고, 4가 되며 4는 이미 1이 되는 최소과정이\n",
    "# 몇 개인지 구했으므로 다시 과정을 거칠 필요가 없다."
   ]
  },
  {
   "cell_type": "code",
   "execution_count": 19,
   "metadata": {},
   "outputs": [
    {
     "name": "stdout",
     "output_type": "stream",
     "text": [
      "10\n"
     ]
    }
   ],
   "source": [
    "N = int(input())"
   ]
  },
  {
   "cell_type": "code",
   "execution_count": 28,
   "metadata": {},
   "outputs": [],
   "source": [
    "result_list = [0, 1, 1, 2] #[1일때 0회, 2일때 1회, 3일때 1회, 4일때 2회]"
   ]
  },
  {
   "cell_type": "code",
   "execution_count": 31,
   "metadata": {},
   "outputs": [
    {
     "name": "stdout",
     "output_type": "stream",
     "text": [
      "1\n",
      "1\n"
     ]
    },
    {
     "ename": "IndexError",
     "evalue": "list index out of range",
     "output_type": "error",
     "traceback": [
      "\u001b[0;31m---------------------------------------------------------------------------\u001b[0m",
      "\u001b[0;31mIndexError\u001b[0m                                Traceback (most recent call last)",
      "\u001b[0;32m<ipython-input-31-480e6b3c3a86>\u001b[0m in \u001b[0;36m<module>\u001b[0;34m\u001b[0m\n\u001b[1;32m      1\u001b[0m \u001b[0mprint\u001b[0m\u001b[0;34m(\u001b[0m\u001b[0mresult_list\u001b[0m\u001b[0;34m[\u001b[0m\u001b[0mint\u001b[0m\u001b[0;34m(\u001b[0m\u001b[0mN\u001b[0m\u001b[0;34m/\u001b[0m\u001b[0;36m3\u001b[0m\u001b[0;34m)\u001b[0m\u001b[0;34m-\u001b[0m\u001b[0;36m1\u001b[0m\u001b[0;34m]\u001b[0m\u001b[0;34m)\u001b[0m\u001b[0;34m\u001b[0m\u001b[0;34m\u001b[0m\u001b[0m\n\u001b[1;32m      2\u001b[0m \u001b[0mprint\u001b[0m\u001b[0;34m(\u001b[0m\u001b[0mresult_list\u001b[0m\u001b[0;34m[\u001b[0m\u001b[0mint\u001b[0m\u001b[0;34m(\u001b[0m\u001b[0mN\u001b[0m\u001b[0;34m/\u001b[0m\u001b[0;36m2\u001b[0m\u001b[0;34m)\u001b[0m\u001b[0;34m-\u001b[0m\u001b[0;36m1\u001b[0m\u001b[0;34m]\u001b[0m\u001b[0;34m)\u001b[0m\u001b[0;34m\u001b[0m\u001b[0;34m\u001b[0m\u001b[0m\n\u001b[0;32m----> 3\u001b[0;31m \u001b[0mprint\u001b[0m\u001b[0;34m(\u001b[0m\u001b[0mresult_list\u001b[0m\u001b[0;34m[\u001b[0m\u001b[0;34m(\u001b[0m\u001b[0mN\u001b[0m\u001b[0;34m-\u001b[0m\u001b[0;36m1\u001b[0m\u001b[0;34m)\u001b[0m\u001b[0;34m-\u001b[0m\u001b[0;36m1\u001b[0m\u001b[0;34m]\u001b[0m\u001b[0;34m)\u001b[0m \u001b[0;31m# 5가 얼마나 걸리는지\u001b[0m\u001b[0;34m\u001b[0m\u001b[0;34m\u001b[0m\u001b[0m\n\u001b[0m",
      "\u001b[0;31mIndexError\u001b[0m: list index out of range"
     ]
    }
   ],
   "source": [
    "print(result_list[int(N/3)-1])\n",
    "print(result_list[int(N/2)-1])\n",
    "print(result_list[(N-1)-1]) # 5가 얼마나 걸리는지"
   ]
  },
  {
   "cell_type": "code",
   "execution_count": null,
   "metadata": {},
   "outputs": [],
   "source": [
    "min(result_list[int(N/3)-1])"
   ]
  },
  {
   "cell_type": "code",
   "execution_count": null,
   "metadata": {},
   "outputs": [],
   "source": [
    "# 풀이에서 process_cnt를 이용하여 ㄱ과 같은 경우를 다 검사하여 1을 만들기 위한 최소 횟수를 구한다"
   ]
  },
  {
   "cell_type": "code",
   "execution_count": null,
   "metadata": {},
   "outputs": [],
   "source": [
    "if __name__ == \"__main__\":\n",
    "    N = int(input())\n",
    "    result_list = [0, 0, 1, 1]\n",
    "    \n",
    "    for num in range(4, N + 1):\n",
    "        process_cnt = 999999999\n",
    "        if"
   ]
  },
  {
   "cell_type": "code",
   "execution_count": 32,
   "metadata": {},
   "outputs": [],
   "source": [
    "# 3번문제는 stack에서 push와 pop을 이용한다\n",
    "# push(item):원소를 넣는다. pop():가장 늦게 들어온 원소 반환 후 제거\n",
    "# isEmpty(): 스택이 비어 있으면 True, 아니면 False\n",
    "# isFull(): 스택이 가득 차 있으면 True, 아니면 False\n",
    "# peek(): 맨 위에 있는 원소를 반환, 제거는 하지 않는다\n",
    "\n",
    "# 배열의 private선언"
   ]
  },
  {
   "cell_type": "code",
   "execution_count": 33,
   "metadata": {},
   "outputs": [],
   "source": [
    "class stack:\n",
    "    def __init__(self):\n",
    "        self.__arr = []\n",
    "        self.__top = 0\n",
    "        \n",
    "    def push(self, item):\n",
    "        self.__arr.append(item)\n",
    "        self.__top += 1\n",
    "        \n",
    "    def isEmpty(self):\n",
    "        if self.__arr == []:\n",
    "            return True\n",
    "        else:\n",
    "            return False\n",
    "        \n",
    "    def pop(self):\n",
    "        if self.isEmpty():\n",
    "            return False\n",
    "        else:\n",
    "            self.__top -= 1\n",
    "            item = self.__arr[self.__top]\n",
    "            del(self.__arr[self.__top])\n",
    "            \n",
    "            return item\n",
    "        \n",
    "    def peek(self):\n",
    "        if self.isEmpty():\n",
    "            return False\n",
    "        else:\n",
    "            item = self.__arr[self.__top - 1]\n",
    "            \n",
    "            return item"
   ]
  },
  {
   "cell_type": "code",
   "execution_count": 34,
   "metadata": {},
   "outputs": [],
   "source": [
    "def check_brackets(brackets):\n",
    "    stack_inst = stack()\n",
    "    \n",
    "    for bracket in brackets:\n",
    "        if bracket == \"(\":\n",
    "            stack_inst.push(bracket)\n",
    "        else:\n",
    "            pop_result = stack_inst.pop()\n",
    "            if pop_result == False:\n",
    "                return False\n",
    "            \n",
    "    if stack_inst.isEmpty():\n",
    "        return True\n",
    "    else:\n",
    "        return False"
   ]
  },
  {
   "cell_type": "code",
   "execution_count": 35,
   "metadata": {},
   "outputs": [
    {
     "data": {
      "text/plain": [
       "False"
      ]
     },
     "execution_count": 35,
     "metadata": {},
     "output_type": "execute_result"
    }
   ],
   "source": [
    "check_brackets('(((((((())))))))))))')"
   ]
  },
  {
   "cell_type": "code",
   "execution_count": 36,
   "metadata": {},
   "outputs": [
    {
     "data": {
      "text/plain": [
       "True"
      ]
     },
     "execution_count": 36,
     "metadata": {},
     "output_type": "execute_result"
    }
   ],
   "source": [
    "check_brackets('((((((()))))))')"
   ]
  },
  {
   "cell_type": "code",
   "execution_count": 37,
   "metadata": {},
   "outputs": [
    {
     "name": "stdout",
     "output_type": "stream",
     "text": [
      "6\n"
     ]
    }
   ],
   "source": [
    "int_N = int(input())"
   ]
  },
  {
   "cell_type": "code",
   "execution_count": 2,
   "metadata": {},
   "outputs": [],
   "source": [
    "# for _ in range(int_N):\n",
    "# #     brackets = input()\n",
    "    \n",
    "#     if check_brackets(brackets):\n",
    "#         print(\"YES\")\n",
    "#     else:\n",
    "#         print(\"NO\")\n"
   ]
  },
  {
   "cell_type": "code",
   "execution_count": 3,
   "metadata": {},
   "outputs": [
    {
     "name": "stdout",
     "output_type": "stream",
     "text": [
      "aabbaccc\n"
     ]
    }
   ],
   "source": [
    "word = input()"
   ]
  },
  {
   "cell_type": "code",
   "execution_count": 5,
   "metadata": {},
   "outputs": [],
   "source": [
    "for cut_size in range(1, int(len(word)/2) + 1):\n",
    "    pass\n",
    "#cut size로 압축했을 때 그 문자열 반환. 반환된 문자열의 길이 저장\n",
    "#길이 정렬 후 가장 작은 것 출력"
   ]
  },
  {
   "cell_type": "code",
   "execution_count": 6,
   "metadata": {},
   "outputs": [],
   "source": [
    "# def compress_word(word, cut_size):\n",
    "#     cutted_words = []\n",
    "#     for i in range(0, len(word), cut_size):\n",
    "#         cutted_words.append(word[i:i + cut_size])\n",
    "#     print(cutted_words)"
   ]
  },
  {
   "cell_type": "code",
   "execution_count": 11,
   "metadata": {},
   "outputs": [],
   "source": [
    "def compress_word(word, cut_size):\n",
    "    cutted_words = [word[i:i + cut_size] for i in range(0, len(word), cut_size)]\n",
    "    print(cutted_words)"
   ]
  },
  {
   "cell_type": "code",
   "execution_count": 12,
   "metadata": {},
   "outputs": [
    {
     "name": "stdout",
     "output_type": "stream",
     "text": [
      "['aa', 'bb']\n"
     ]
    }
   ],
   "source": [
    "compress_word(\"aabb\", 2)"
   ]
  },
  {
   "cell_type": "code",
   "execution_count": 30,
   "metadata": {},
   "outputs": [],
   "source": [
    "def compress_word(word, cut_size):\n",
    "    cutted_words = [word[i:i + cut_size] for i in range(0, len(word), cut_size)]\n",
    "    print(cutted_words)\n",
    "    last_matched = 0\n",
    "    i = 0\n",
    "    \n",
    "    while i < len(cutted_words) - 1:\n",
    "        if cutted_words[i] == cutted_words[i+1]:\n",
    "            if last_matched != cutted_words[i]:\n",
    "                cutted_words[i] = 2\n",
    "                last_matched = cutted_words[i]\n",
    "                if type(cutted_words[i - 1]) == int:\n",
    "                    cutted_words[i - 1] += 1\n",
    "                    del(cutted_words[i])\n",
    "                    i -= 1\n",
    "        i += 1\n",
    "        \n",
    "    str_cutted_words = [str(word) for word in cutted_words]\n",
    "    compressed_word = \"\".join(str_cutted_words)\n",
    "    print(compressed_word)"
   ]
  },
  {
   "cell_type": "code",
   "execution_count": 31,
   "metadata": {},
   "outputs": [
    {
     "name": "stdout",
     "output_type": "stream",
     "text": [
      "['aa', 'aa', 'bb', 'bc']\n",
      "2aabbbc\n"
     ]
    }
   ],
   "source": [
    "compress_word(\"aaaabbbc\", 2)"
   ]
  },
  {
   "cell_type": "code",
   "execution_count": 35,
   "metadata": {},
   "outputs": [
    {
     "name": "stdout",
     "output_type": "stream",
     "text": [
      "aaaabbbc\n",
      "['a', 'a', 'a', 'a', 'b', 'b', 'b', 'c']\n",
      "4a3bc\n",
      "['aa', 'aa', 'bb', 'bc']\n",
      "2aabbbc\n",
      "['aaa', 'abb', 'bc']\n",
      "aaaabbbc\n",
      "['aaaa', 'bbbc']\n",
      "aaaabbbc\n"
     ]
    }
   ],
   "source": [
    "word = input()\n",
    "for cut_size in range(1, int(len(word)/2) + 1):\n",
    "    compressed_word = compress_word(word, cut_size)"
   ]
  },
  {
   "cell_type": "code",
   "execution_count": null,
   "metadata": {},
   "outputs": [],
   "source": []
  }
 ],
 "metadata": {
  "kernelspec": {
   "display_name": "Python 3",
   "language": "python",
   "name": "python3"
  },
  "language_info": {
   "codemirror_mode": {
    "name": "ipython",
    "version": 3
   },
   "file_extension": ".py",
   "mimetype": "text/x-python",
   "name": "python",
   "nbconvert_exporter": "python",
   "pygments_lexer": "ipython3",
   "version": "3.7.5"
  }
 },
 "nbformat": 4,
 "nbformat_minor": 2
}

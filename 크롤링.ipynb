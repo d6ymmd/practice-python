{
 "cells": [
  {
   "cell_type": "code",
   "execution_count": 6,
   "metadata": {},
   "outputs": [
    {
     "data": {
      "text/plain": [
       "[['서울', '25.6', '30'],\n",
       " ['백령도', '18.4', '62'],\n",
       " ['인천', '20.8', '54'],\n",
       " ['수원', '25.0', '41'],\n",
       " ['동두천', '24.9', '34'],\n",
       " ['파주', '25.1', '39'],\n",
       " ['강화', '20.0', '56'],\n",
       " ['양평', '25.5', '32'],\n",
       " ['이천', '25.6', '28'],\n",
       " ['북춘천', '24.6', '36'],\n",
       " ['북강릉', '19.9', '56'],\n",
       " ['울릉도', '16.8', '77'],\n",
       " ['속초', '19.1', '75'],\n",
       " ['철원', '23.9', '37'],\n",
       " ['대관령', '17.9', '49'],\n",
       " ['춘천', '25.7', '39'],\n",
       " ['강릉', '22.7', '41'],\n",
       " ['동해', '19.5', '77'],\n",
       " ['원주', '23.4', '36'],\n",
       " ['영월', '24.2', '34'],\n",
       " ['인제', '24.3', '31'],\n",
       " ['홍천', '25.4', '25'],\n",
       " ['태백', '19.6', '43'],\n",
       " ['정선군', '23.0', '32'],\n",
       " ['서산', '23.6', '49'],\n",
       " ['청주', '24.3', '33'],\n",
       " ['대전', '25.1', '37'],\n",
       " ['충주', '24.4', '32'],\n",
       " ['추풍령', '23.0', '35'],\n",
       " ['홍성(예)', '24.3', '46'],\n",
       " ['제천', '24.2', '32'],\n",
       " ['보은', '23.7', '28'],\n",
       " ['천안', '23.5', '35'],\n",
       " ['보령', '21.4', '56'],\n",
       " ['부여', '23.9', '37'],\n",
       " ['금산', '23.7', '30'],\n",
       " ['전주', '24.9', '44'],\n",
       " ['광주', '24.0', '35'],\n",
       " ['목포', '22.8', '51'],\n",
       " ['여수', '22.8', '49'],\n",
       " ['흑산도', '19.2', '93'],\n",
       " ['군산', '21.8', '55'],\n",
       " ['완도', '23.2', '45'],\n",
       " ['고창', '22.7', '53'],\n",
       " ['순천', '22.5', '40'],\n",
       " ['진도(첨찰산)', '22.2', '48'],\n",
       " ['부안', '22.9', '44'],\n",
       " ['임실', '22.8', '40'],\n",
       " ['정읍', '23.8', '47'],\n",
       " ['남원', '23.8', '35'],\n",
       " ['장수', '22.0', '33'],\n",
       " ['고창군', '23.7', '48'],\n",
       " ['영광군', '22.4', '40'],\n",
       " ['순창군', '23.5', '38'],\n",
       " ['보성군', '23.7', '34'],\n",
       " ['강진군', '24.1', '33'],\n",
       " ['장흥', '25.5', '33'],\n",
       " ['해남', '24.6', '40'],\n",
       " ['고흥', '24.4', '34'],\n",
       " ['광양시', '24.6', '43'],\n",
       " ['진도군', '21.9', '58'],\n",
       " ['제주', '20.7', '60'],\n",
       " ['고산', '19.1', '74'],\n",
       " ['성산', '23.1', '33'],\n",
       " ['서귀포', '24.0', '43'],\n",
       " ['안동', '25.0', '32'],\n",
       " ['포항', '19.0', '83'],\n",
       " ['대구', '25.7', '31'],\n",
       " ['울산', '19.7', '70'],\n",
       " ['창원', '20.6', '63'],\n",
       " ['부산', '20.2', '66'],\n",
       " ['울진', '17.6', '84'],\n",
       " ['상주', '25.0', '32'],\n",
       " ['통영', '20.0', '71'],\n",
       " ['진주', '23.8', '30'],\n",
       " ['김해시', '21.9', '60'],\n",
       " ['북창원', '22.8', '50'],\n",
       " ['양산시', '21.4', '63'],\n",
       " ['의령군', '25.1', '40'],\n",
       " ['함양군', '23.3', '38'],\n",
       " ['봉화', '22.0', '38'],\n",
       " ['영주', '23.0', '36'],\n",
       " ['문경', '25.5', '26'],\n",
       " ['청송군', '17.9', '71'],\n",
       " ['영덕', '19.4', '57'],\n",
       " ['의성', '25.7', '25'],\n",
       " ['구미', '25.7', '32'],\n",
       " ['영천', '21.8', '47'],\n",
       " ['경주시', '23.8', '49'],\n",
       " ['거창', '22.7', '38'],\n",
       " ['합천', '25.1', '32'],\n",
       " ['밀양', '24.7', '34'],\n",
       " ['산청', '24.8', '41'],\n",
       " ['거제', '23.1', '57'],\n",
       " ['남해', '24.5', '40']]"
      ]
     },
     "execution_count": 6,
     "metadata": {},
     "output_type": "execute_result"
    }
   ],
   "source": [
    "import requests\n",
    "from bs4 import BeautifulSoup\n",
    "\n",
    "response = requests.get('https://pythondojang.bitbucket.io/weather/observation/currentweather.html')\n",
    "soup = BeautifulSoup(response.content, 'html.parser')\n",
    "\n",
    "table = soup.find('table', { 'class': 'table_develop3' })\n",
    "data = []\n",
    "for tr in table.find_all('tr'):\n",
    "    tds = list(tr.find_all('td'))\n",
    "    \n",
    "    for td in tds:\n",
    "        if td.find('a'): \n",
    "            point = td.find('a').text\n",
    "            temperature = tds[5].text\n",
    "            humidity = tds[9].text\n",
    "            data.append([point, temperature, humidity])\n",
    "data"
   ]
  },
  {
   "cell_type": "code",
   "execution_count": 7,
   "metadata": {},
   "outputs": [],
   "source": [
    "with open('weather.csv', 'w') as file:\n",
    "    file.write('point,temperature,humidity\\n')\n",
    "    for i in data:\n",
    "        file.write('{0},{1},{2}\\n'.format(i[0], i[1], i[2]))"
   ]
  },
  {
   "cell_type": "code",
   "execution_count": 11,
   "metadata": {},
   "outputs": [
    {
     "data": {
      "text/html": [
       "<div>\n",
       "<style scoped>\n",
       "    .dataframe tbody tr th:only-of-type {\n",
       "        vertical-align: middle;\n",
       "    }\n",
       "\n",
       "    .dataframe tbody tr th {\n",
       "        vertical-align: top;\n",
       "    }\n",
       "\n",
       "    .dataframe thead th {\n",
       "        text-align: right;\n",
       "    }\n",
       "</style>\n",
       "<table border=\"1\" class=\"dataframe\">\n",
       "  <thead>\n",
       "    <tr style=\"text-align: right;\">\n",
       "      <th></th>\n",
       "      <th>temperature</th>\n",
       "      <th>humidity</th>\n",
       "    </tr>\n",
       "    <tr>\n",
       "      <th>point</th>\n",
       "      <th></th>\n",
       "      <th></th>\n",
       "    </tr>\n",
       "  </thead>\n",
       "  <tbody>\n",
       "    <tr>\n",
       "      <th>서울</th>\n",
       "      <td>25.6</td>\n",
       "      <td>30</td>\n",
       "    </tr>\n",
       "    <tr>\n",
       "      <th>백령도</th>\n",
       "      <td>18.4</td>\n",
       "      <td>62</td>\n",
       "    </tr>\n",
       "    <tr>\n",
       "      <th>인천</th>\n",
       "      <td>20.8</td>\n",
       "      <td>54</td>\n",
       "    </tr>\n",
       "    <tr>\n",
       "      <th>수원</th>\n",
       "      <td>25.0</td>\n",
       "      <td>41</td>\n",
       "    </tr>\n",
       "    <tr>\n",
       "      <th>동두천</th>\n",
       "      <td>24.9</td>\n",
       "      <td>34</td>\n",
       "    </tr>\n",
       "    <tr>\n",
       "      <th>...</th>\n",
       "      <td>...</td>\n",
       "      <td>...</td>\n",
       "    </tr>\n",
       "    <tr>\n",
       "      <th>합천</th>\n",
       "      <td>25.1</td>\n",
       "      <td>32</td>\n",
       "    </tr>\n",
       "    <tr>\n",
       "      <th>밀양</th>\n",
       "      <td>24.7</td>\n",
       "      <td>34</td>\n",
       "    </tr>\n",
       "    <tr>\n",
       "      <th>산청</th>\n",
       "      <td>24.8</td>\n",
       "      <td>41</td>\n",
       "    </tr>\n",
       "    <tr>\n",
       "      <th>거제</th>\n",
       "      <td>23.1</td>\n",
       "      <td>57</td>\n",
       "    </tr>\n",
       "    <tr>\n",
       "      <th>남해</th>\n",
       "      <td>24.5</td>\n",
       "      <td>40</td>\n",
       "    </tr>\n",
       "  </tbody>\n",
       "</table>\n",
       "<p>95 rows × 2 columns</p>\n",
       "</div>"
      ],
      "text/plain": [
       "       temperature  humidity\n",
       "point                       \n",
       "서울            25.6        30\n",
       "백령도           18.4        62\n",
       "인천            20.8        54\n",
       "수원            25.0        41\n",
       "동두천           24.9        34\n",
       "...            ...       ...\n",
       "합천            25.1        32\n",
       "밀양            24.7        34\n",
       "산청            24.8        41\n",
       "거제            23.1        57\n",
       "남해            24.5        40\n",
       "\n",
       "[95 rows x 2 columns]"
      ]
     },
     "execution_count": 11,
     "metadata": {},
     "output_type": "execute_result"
    }
   ],
   "source": [
    "%matplotlib inline\n",
    "import pandas as pd                \n",
    "import matplotlib as mpl\n",
    "import matplotlib.pyplot as plt\n",
    "\n",
    "df = pd.read_csv('weather.csv', index_col='point', encoding='utf-8')\n",
    "df"
   ]
  },
  {
   "cell_type": "code",
   "execution_count": 12,
   "metadata": {},
   "outputs": [
    {
     "data": {
      "text/html": [
       "<div>\n",
       "<style scoped>\n",
       "    .dataframe tbody tr th:only-of-type {\n",
       "        vertical-align: middle;\n",
       "    }\n",
       "\n",
       "    .dataframe tbody tr th {\n",
       "        vertical-align: top;\n",
       "    }\n",
       "\n",
       "    .dataframe thead th {\n",
       "        text-align: right;\n",
       "    }\n",
       "</style>\n",
       "<table border=\"1\" class=\"dataframe\">\n",
       "  <thead>\n",
       "    <tr style=\"text-align: right;\">\n",
       "      <th></th>\n",
       "      <th>temperature</th>\n",
       "      <th>humidity</th>\n",
       "    </tr>\n",
       "    <tr>\n",
       "      <th>point</th>\n",
       "      <th></th>\n",
       "      <th></th>\n",
       "    </tr>\n",
       "  </thead>\n",
       "  <tbody>\n",
       "    <tr>\n",
       "      <th>서울</th>\n",
       "      <td>25.6</td>\n",
       "      <td>30</td>\n",
       "    </tr>\n",
       "    <tr>\n",
       "      <th>인천</th>\n",
       "      <td>20.8</td>\n",
       "      <td>54</td>\n",
       "    </tr>\n",
       "    <tr>\n",
       "      <th>대전</th>\n",
       "      <td>25.1</td>\n",
       "      <td>37</td>\n",
       "    </tr>\n",
       "    <tr>\n",
       "      <th>대구</th>\n",
       "      <td>25.7</td>\n",
       "      <td>31</td>\n",
       "    </tr>\n",
       "    <tr>\n",
       "      <th>광주</th>\n",
       "      <td>24.0</td>\n",
       "      <td>35</td>\n",
       "    </tr>\n",
       "    <tr>\n",
       "      <th>부산</th>\n",
       "      <td>20.2</td>\n",
       "      <td>66</td>\n",
       "    </tr>\n",
       "    <tr>\n",
       "      <th>울산</th>\n",
       "      <td>19.7</td>\n",
       "      <td>70</td>\n",
       "    </tr>\n",
       "  </tbody>\n",
       "</table>\n",
       "</div>"
      ],
      "text/plain": [
       "       temperature  humidity\n",
       "point                       \n",
       "서울            25.6        30\n",
       "인천            20.8        54\n",
       "대전            25.1        37\n",
       "대구            25.7        31\n",
       "광주            24.0        35\n",
       "부산            20.2        66\n",
       "울산            19.7        70"
      ]
     },
     "execution_count": 12,
     "metadata": {},
     "output_type": "execute_result"
    }
   ],
   "source": [
    "city_df = df.loc[['서울', '인천', '대전', '대구', '광주', '부산', '울산']]\n",
    "city_df"
   ]
  },
  {
   "cell_type": "code",
   "execution_count": 15,
   "metadata": {},
   "outputs": [
    {
     "data": {
      "text/plain": [
       "temperature    25.6\n",
       "humidity       30.0\n",
       "Name: 서울, dtype: float64"
      ]
     },
     "execution_count": 15,
     "metadata": {},
     "output_type": "execute_result"
    }
   ],
   "source": [
    "df.loc['서울']"
   ]
  },
  {
   "cell_type": "code",
   "execution_count": 16,
   "metadata": {},
   "outputs": [
    {
     "data": {
      "text/html": [
       "<div>\n",
       "<style scoped>\n",
       "    .dataframe tbody tr th:only-of-type {\n",
       "        vertical-align: middle;\n",
       "    }\n",
       "\n",
       "    .dataframe tbody tr th {\n",
       "        vertical-align: top;\n",
       "    }\n",
       "\n",
       "    .dataframe thead th {\n",
       "        text-align: right;\n",
       "    }\n",
       "</style>\n",
       "<table border=\"1\" class=\"dataframe\">\n",
       "  <thead>\n",
       "    <tr style=\"text-align: right;\">\n",
       "      <th></th>\n",
       "      <th>temperature</th>\n",
       "      <th>humidity</th>\n",
       "    </tr>\n",
       "    <tr>\n",
       "      <th>point</th>\n",
       "      <th></th>\n",
       "      <th></th>\n",
       "    </tr>\n",
       "  </thead>\n",
       "  <tbody>\n",
       "    <tr>\n",
       "      <th>서울</th>\n",
       "      <td>25.6</td>\n",
       "      <td>30</td>\n",
       "    </tr>\n",
       "    <tr>\n",
       "      <th>부산</th>\n",
       "      <td>20.2</td>\n",
       "      <td>66</td>\n",
       "    </tr>\n",
       "  </tbody>\n",
       "</table>\n",
       "</div>"
      ],
      "text/plain": [
       "       temperature  humidity\n",
       "point                       \n",
       "서울            25.6        30\n",
       "부산            20.2        66"
      ]
     },
     "execution_count": 16,
     "metadata": {},
     "output_type": "execute_result"
    }
   ],
   "source": [
    "df.loc[['서울', '부산']]"
   ]
  },
  {
   "cell_type": "code",
   "execution_count": 19,
   "metadata": {},
   "outputs": [
    {
     "data": {
      "text/plain": [
       "<matplotlib.legend.Legend at 0x7f9f398e1350>"
      ]
     },
     "execution_count": 19,
     "metadata": {},
     "output_type": "execute_result"
    },
    {
     "name": "stderr",
     "output_type": "stream",
     "text": [
      "/home/bora/.pyenv/versions/3.7.5/envs/piro-env/lib/python3.7/site-packages/matplotlib/backends/backend_agg.py:211: RuntimeWarning: Glyph 45216 missing from current font.\n",
      "  font.set_text(s, 0.0, flags=flags)\n",
      "/home/bora/.pyenv/versions/3.7.5/envs/piro-env/lib/python3.7/site-packages/matplotlib/backends/backend_agg.py:211: RuntimeWarning: Glyph 50472 missing from current font.\n",
      "  font.set_text(s, 0.0, flags=flags)\n",
      "/home/bora/.pyenv/versions/3.7.5/envs/piro-env/lib/python3.7/site-packages/matplotlib/backends/backend_agg.py:211: RuntimeWarning: Glyph 49436 missing from current font.\n",
      "  font.set_text(s, 0.0, flags=flags)\n",
      "/home/bora/.pyenv/versions/3.7.5/envs/piro-env/lib/python3.7/site-packages/matplotlib/backends/backend_agg.py:211: RuntimeWarning: Glyph 50872 missing from current font.\n",
      "  font.set_text(s, 0.0, flags=flags)\n",
      "/home/bora/.pyenv/versions/3.7.5/envs/piro-env/lib/python3.7/site-packages/matplotlib/backends/backend_agg.py:211: RuntimeWarning: Glyph 51064 missing from current font.\n",
      "  font.set_text(s, 0.0, flags=flags)\n",
      "/home/bora/.pyenv/versions/3.7.5/envs/piro-env/lib/python3.7/site-packages/matplotlib/backends/backend_agg.py:211: RuntimeWarning: Glyph 52380 missing from current font.\n",
      "  font.set_text(s, 0.0, flags=flags)\n",
      "/home/bora/.pyenv/versions/3.7.5/envs/piro-env/lib/python3.7/site-packages/matplotlib/backends/backend_agg.py:211: RuntimeWarning: Glyph 45824 missing from current font.\n",
      "  font.set_text(s, 0.0, flags=flags)\n",
      "/home/bora/.pyenv/versions/3.7.5/envs/piro-env/lib/python3.7/site-packages/matplotlib/backends/backend_agg.py:211: RuntimeWarning: Glyph 51204 missing from current font.\n",
      "  font.set_text(s, 0.0, flags=flags)\n",
      "/home/bora/.pyenv/versions/3.7.5/envs/piro-env/lib/python3.7/site-packages/matplotlib/backends/backend_agg.py:211: RuntimeWarning: Glyph 44396 missing from current font.\n",
      "  font.set_text(s, 0.0, flags=flags)\n",
      "/home/bora/.pyenv/versions/3.7.5/envs/piro-env/lib/python3.7/site-packages/matplotlib/backends/backend_agg.py:211: RuntimeWarning: Glyph 44305 missing from current font.\n",
      "  font.set_text(s, 0.0, flags=flags)\n",
      "/home/bora/.pyenv/versions/3.7.5/envs/piro-env/lib/python3.7/site-packages/matplotlib/backends/backend_agg.py:211: RuntimeWarning: Glyph 51452 missing from current font.\n",
      "  font.set_text(s, 0.0, flags=flags)\n",
      "/home/bora/.pyenv/versions/3.7.5/envs/piro-env/lib/python3.7/site-packages/matplotlib/backends/backend_agg.py:211: RuntimeWarning: Glyph 48512 missing from current font.\n",
      "  font.set_text(s, 0.0, flags=flags)\n",
      "/home/bora/.pyenv/versions/3.7.5/envs/piro-env/lib/python3.7/site-packages/matplotlib/backends/backend_agg.py:211: RuntimeWarning: Glyph 49328 missing from current font.\n",
      "  font.set_text(s, 0.0, flags=flags)\n",
      "/home/bora/.pyenv/versions/3.7.5/envs/piro-env/lib/python3.7/site-packages/matplotlib/backends/backend_agg.py:180: RuntimeWarning: Glyph 49436 missing from current font.\n",
      "  font.set_text(s, 0, flags=flags)\n",
      "/home/bora/.pyenv/versions/3.7.5/envs/piro-env/lib/python3.7/site-packages/matplotlib/backends/backend_agg.py:180: RuntimeWarning: Glyph 50872 missing from current font.\n",
      "  font.set_text(s, 0, flags=flags)\n",
      "/home/bora/.pyenv/versions/3.7.5/envs/piro-env/lib/python3.7/site-packages/matplotlib/backends/backend_agg.py:180: RuntimeWarning: Glyph 51064 missing from current font.\n",
      "  font.set_text(s, 0, flags=flags)\n",
      "/home/bora/.pyenv/versions/3.7.5/envs/piro-env/lib/python3.7/site-packages/matplotlib/backends/backend_agg.py:180: RuntimeWarning: Glyph 52380 missing from current font.\n",
      "  font.set_text(s, 0, flags=flags)\n",
      "/home/bora/.pyenv/versions/3.7.5/envs/piro-env/lib/python3.7/site-packages/matplotlib/backends/backend_agg.py:180: RuntimeWarning: Glyph 45824 missing from current font.\n",
      "  font.set_text(s, 0, flags=flags)\n",
      "/home/bora/.pyenv/versions/3.7.5/envs/piro-env/lib/python3.7/site-packages/matplotlib/backends/backend_agg.py:180: RuntimeWarning: Glyph 51204 missing from current font.\n",
      "  font.set_text(s, 0, flags=flags)\n",
      "/home/bora/.pyenv/versions/3.7.5/envs/piro-env/lib/python3.7/site-packages/matplotlib/backends/backend_agg.py:180: RuntimeWarning: Glyph 44396 missing from current font.\n",
      "  font.set_text(s, 0, flags=flags)\n",
      "/home/bora/.pyenv/versions/3.7.5/envs/piro-env/lib/python3.7/site-packages/matplotlib/backends/backend_agg.py:180: RuntimeWarning: Glyph 44305 missing from current font.\n",
      "  font.set_text(s, 0, flags=flags)\n",
      "/home/bora/.pyenv/versions/3.7.5/envs/piro-env/lib/python3.7/site-packages/matplotlib/backends/backend_agg.py:180: RuntimeWarning: Glyph 51452 missing from current font.\n",
      "  font.set_text(s, 0, flags=flags)\n",
      "/home/bora/.pyenv/versions/3.7.5/envs/piro-env/lib/python3.7/site-packages/matplotlib/backends/backend_agg.py:180: RuntimeWarning: Glyph 48512 missing from current font.\n",
      "  font.set_text(s, 0, flags=flags)\n",
      "/home/bora/.pyenv/versions/3.7.5/envs/piro-env/lib/python3.7/site-packages/matplotlib/backends/backend_agg.py:180: RuntimeWarning: Glyph 49328 missing from current font.\n",
      "  font.set_text(s, 0, flags=flags)\n",
      "/home/bora/.pyenv/versions/3.7.5/envs/piro-env/lib/python3.7/site-packages/matplotlib/backends/backend_agg.py:211: RuntimeWarning: Glyph 46020 missing from current font.\n",
      "  font.set_text(s, 0.0, flags=flags)\n",
      "/home/bora/.pyenv/versions/3.7.5/envs/piro-env/lib/python3.7/site-packages/matplotlib/backends/backend_agg.py:211: RuntimeWarning: Glyph 49884 missing from current font.\n",
      "  font.set_text(s, 0.0, flags=flags)\n",
      "/home/bora/.pyenv/versions/3.7.5/envs/piro-env/lib/python3.7/site-packages/matplotlib/backends/backend_agg.py:180: RuntimeWarning: Glyph 46020 missing from current font.\n",
      "  font.set_text(s, 0, flags=flags)\n",
      "/home/bora/.pyenv/versions/3.7.5/envs/piro-env/lib/python3.7/site-packages/matplotlib/backends/backend_agg.py:180: RuntimeWarning: Glyph 49884 missing from current font.\n",
      "  font.set_text(s, 0, flags=flags)\n",
      "/home/bora/.pyenv/versions/3.7.5/envs/piro-env/lib/python3.7/site-packages/matplotlib/backends/backend_agg.py:211: RuntimeWarning: Glyph 44592 missing from current font.\n",
      "  font.set_text(s, 0.0, flags=flags)\n",
      "/home/bora/.pyenv/versions/3.7.5/envs/piro-env/lib/python3.7/site-packages/matplotlib/backends/backend_agg.py:211: RuntimeWarning: Glyph 50728 missing from current font.\n",
      "  font.set_text(s, 0.0, flags=flags)\n",
      "/home/bora/.pyenv/versions/3.7.5/envs/piro-env/lib/python3.7/site-packages/matplotlib/backends/backend_agg.py:211: RuntimeWarning: Glyph 49845 missing from current font.\n",
      "  font.set_text(s, 0.0, flags=flags)\n",
      "/home/bora/.pyenv/versions/3.7.5/envs/piro-env/lib/python3.7/site-packages/matplotlib/backends/backend_agg.py:180: RuntimeWarning: Glyph 44592 missing from current font.\n",
      "  font.set_text(s, 0, flags=flags)\n",
      "/home/bora/.pyenv/versions/3.7.5/envs/piro-env/lib/python3.7/site-packages/matplotlib/backends/backend_agg.py:180: RuntimeWarning: Glyph 50728 missing from current font.\n",
      "  font.set_text(s, 0, flags=flags)\n",
      "/home/bora/.pyenv/versions/3.7.5/envs/piro-env/lib/python3.7/site-packages/matplotlib/backends/backend_agg.py:180: RuntimeWarning: Glyph 49845 missing from current font.\n",
      "  font.set_text(s, 0, flags=flags)\n",
      "/home/bora/.pyenv/versions/3.7.5/envs/piro-env/lib/python3.7/site-packages/matplotlib/backends/backend_agg.py:180: RuntimeWarning: Glyph 45216 missing from current font.\n",
      "  font.set_text(s, 0, flags=flags)\n",
      "/home/bora/.pyenv/versions/3.7.5/envs/piro-env/lib/python3.7/site-packages/matplotlib/backends/backend_agg.py:180: RuntimeWarning: Glyph 50472 missing from current font.\n",
      "  font.set_text(s, 0, flags=flags)\n"
     ]
    },
    {
     "data": {
      "image/png": "[encoded data removed]",
      "text/plain": [
       "<Figure size 864x288 with 1 Axes>"
      ]
     },
     "metadata": {
      "needs_background": "light"
     },
     "output_type": "display_data"
    }
   ],
   "source": [
    "# font_name = mpl.font_manager.FontProperties(fname='C:/Windows/Fonts/malgun.ttf').get_name()\n",
    "# mpl.rc('font', family=font_name)\n",
    "\n",
    "ax = city_df.plot(kind='bar', title='날씨', figsize=(12, 4), legend=True, fontsize=12)\n",
    "ax.set_xlabel('도시', fontsize=12)\n",
    "ax.set_ylabel('기온/습도', fontsize=12)\n",
    "ax.legend(['기온', '습도'], fontsize=12)"
   ]
  },
  {
   "cell_type": "code",
   "execution_count": 20,
   "metadata": {},
   "outputs": [
    {
     "data": {
      "text/plain": [
       "point\n",
       "서울    25.6\n",
       "인천    20.8\n",
       "대전    25.1\n",
       "대구    25.7\n",
       "광주    24.0\n",
       "부산    20.2\n",
       "울산    19.7\n",
       "Name: temperature, dtype: float64"
      ]
     },
     "execution_count": 20,
     "metadata": {},
     "output_type": "execute_result"
    }
   ],
   "source": [
    "city_df['temperature']"
   ]
  },
  {
   "cell_type": "code",
   "execution_count": 22,
   "metadata": {},
   "outputs": [
    {
     "name": "stderr",
     "output_type": "stream",
     "text": [
      "/home/bora/.pyenv/versions/3.7.5/envs/piro-env/lib/python3.7/site-packages/ipykernel_launcher.py:1: FutureWarning: \n",
      "The current behaviour of 'Series.argmax' is deprecated, use 'idxmax'\n",
      "instead.\n",
      "The behavior of 'argmax' will be corrected to return the positional\n",
      "maximum in the future. For now, use 'series.values.argmax' or\n",
      "'np.argmax(np.array(values))' to get the position of the maximum\n",
      "row.\n",
      "  \"\"\"Entry point for launching an IPython kernel.\n"
     ]
    },
    {
     "data": {
      "text/plain": [
       "'대구'"
      ]
     },
     "execution_count": 22,
     "metadata": {},
     "output_type": "execute_result"
    }
   ],
   "source": [
    "city_df.temperature.argmax()"
   ]
  },
  {
   "cell_type": "code",
   "execution_count": 24,
   "metadata": {},
   "outputs": [],
   "source": [
    "plt.show()"
   ]
  },
  {
   "cell_type": "code",
   "execution_count": null,
   "metadata": {},
   "outputs": [],
   "source": []
  }
 ],
 "metadata": {
  "kernelspec": {
   "display_name": "Python 3",
   "language": "python",
   "name": "python3"
  },
  "language_info": {
   "codemirror_mode": {
    "name": "ipython",
    "version": 3
   },
   "file_extension": ".py",
   "mimetype": "text/x-python",
   "name": "python",
   "nbconvert_exporter": "python",
   "pygments_lexer": "ipython3",
   "version": "3.7.5"
  }
 },
 "nbformat": 4,
 "nbformat_minor": 2
}
